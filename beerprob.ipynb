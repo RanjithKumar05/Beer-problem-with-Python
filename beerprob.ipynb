def MinimumBottlesCode(q):
  quantity = q
  nums = [7, 5, 10]
  minBottles = 0
  result = 0
  for i in range(len(nums)):
      perfectDivs = quantity / nums[i]
      remaining = quantity % nums[i]
      if (remaining == 0):
              minBottles = perfectDivs
      elif (remaining == 5):
              minBottles = perfectDivs + 1
      elif (remaining == 7):
              minBottles = perfectDivs + 1
      elif (remaining > 7 and remaining < 10):
              minBottles = perfectDivs + remaining % 7 + 1
      elif (remaining > 5 and remaining < 7):
              minBottles = perfectDivs + remaining % 5 + 1
      elif (remaining < 5): 
              minBottles = perfectDivs + remaining

      if (i == 0):
          result = minBottles
          return result
      elif (result > minBottles):
          result = minBottles
  print(result)
MinimumBottlesCode(q = int(input("Quantity please : ")))